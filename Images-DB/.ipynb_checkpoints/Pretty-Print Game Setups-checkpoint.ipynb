{
 "cells": [
  {
   "cell_type": "markdown",
   "metadata": {},
   "source": [
    "# Pretty-Print for Game Setups"
   ]
  },
  {
   "cell_type": "markdown",
   "metadata": {},
   "source": [
    "Use this to pretty-print the selection of images and highlights shown to the participants during different rounds of a game.\n",
    "\n",
    "Game indexes range from 0 to 59. "
   ]
  },
  {
   "cell_type": "code",
   "execution_count": 1,
   "metadata": {
    "collapsed": true
   },
   "outputs": [],
   "source": [
    "import json\n",
    "\n",
    "try:\n",
    "    with open('dmg_full_highlighted.json', 'r') as infile:\n",
    "        games = json.load(infile)\n",
    "except FileNotFoundError:\n",
    "    pass\n"
   ]
  },
  {
   "cell_type": "code",
   "execution_count": 2,
   "metadata": {
    "collapsed": true
   },
   "outputs": [],
   "source": [
    "def print_game(game_nr):\n",
    "    print(\"Game {}\".format(game_nr))\n",
    "    A_images = games[game_nr][\"A\"]\n",
    "    B_images = games[game_nr][\"B\"]\n",
    "    for r in range(5):\n",
    "        print(\"Round {}\".format(r))\n",
    "        print(\"A images: {}\".format(A_images[r]))\n",
    "        print(\"B images: {}\".format(B_images[r]))"
   ]
  },
  {
   "cell_type": "code",
   "execution_count": 5,
   "metadata": {},
   "outputs": [
    {
     "name": "stdout",
     "output_type": "stream",
     "text": [
      "Game 59\n",
      "Round 0\n",
      "A images: [['person_bench/COCO_train2014_000000220226.jpg', True], ['person_bench/COCO_train2014_000000326499.jpg', False], ['person_bench/COCO_train2014_000000039360.jpg', True], ['person_bench/COCO_train2014_000000239417.jpg', False], ['person_bench/COCO_train2014_000000449919.jpg', True], ['person_bench/COCO_train2014_000000580257.jpg', False]]\n",
      "B images: [['person_bench/COCO_train2014_000000220226.jpg', True], ['person_bench/COCO_train2014_000000015354.jpg', False], ['person_bench/COCO_train2014_000000372319.jpg', True], ['person_bench/COCO_train2014_000000326499.jpg', False], ['person_bench/COCO_train2014_000000449919.jpg', True], ['person_bench/COCO_train2014_000000580257.jpg', False]]\n",
      "Round 1\n",
      "A images: [['person_bench/COCO_train2014_000000015354.jpg', False], ['person_bench/COCO_train2014_000000580257.jpg', False], ['person_bench/COCO_train2014_000000196545.jpg', True], ['person_bench/COCO_train2014_000000039360.jpg', True], ['person_bench/COCO_train2014_000000326499.jpg', False], ['person_bench/COCO_train2014_000000140762.jpg', True]]\n",
      "B images: [['person_bench/COCO_train2014_000000335696.jpg', False], ['person_bench/COCO_train2014_000000326499.jpg', False], ['person_bench/COCO_train2014_000000196545.jpg', True], ['person_bench/COCO_train2014_000000015354.jpg', False], ['person_bench/COCO_train2014_000000039360.jpg', True], ['person_bench/COCO_train2014_000000449919.jpg', True]]\n",
      "Round 2\n",
      "A images: [['person_bench/COCO_train2014_000000015354.jpg', False], ['person_bench/COCO_train2014_000000140762.jpg', True], ['person_bench/COCO_train2014_000000335696.jpg', False], ['person_bench/COCO_train2014_000000032957.jpg', True], ['person_bench/COCO_train2014_000000220226.jpg', True], ['person_bench/COCO_train2014_000000239417.jpg', False]]\n",
      "B images: [['person_bench/COCO_train2014_000000372319.jpg', False], ['person_bench/COCO_train2014_000000220226.jpg', False], ['person_bench/COCO_train2014_000000449919.jpg', True], ['person_bench/COCO_train2014_000000039360.jpg', True], ['person_bench/COCO_train2014_000000140762.jpg', True], ['person_bench/COCO_train2014_000000196545.jpg', False]]\n",
      "Round 3\n",
      "A images: [['person_bench/COCO_train2014_000000239417.jpg', False], ['person_bench/COCO_train2014_000000449919.jpg', True], ['person_bench/COCO_train2014_000000335696.jpg', False], ['person_bench/COCO_train2014_000000372319.jpg', True], ['person_bench/COCO_train2014_000000580257.jpg', False], ['person_bench/COCO_train2014_000000032957.jpg', True]]\n",
      "B images: [['person_bench/COCO_train2014_000000580257.jpg', False], ['person_bench/COCO_train2014_000000239417.jpg', False], ['person_bench/COCO_train2014_000000140762.jpg', True], ['person_bench/COCO_train2014_000000220226.jpg', True], ['person_bench/COCO_train2014_000000032957.jpg', True], ['person_bench/COCO_train2014_000000372319.jpg', False]]\n",
      "Round 4\n",
      "A images: [['person_bench/COCO_train2014_000000032957.jpg', True], ['person_bench/COCO_train2014_000000196545.jpg', True], ['person_bench/COCO_train2014_000000335696.jpg', False], ['person_bench/COCO_train2014_000000039360.jpg', True], ['person_bench/COCO_train2014_000000372319.jpg', False], ['person_bench/COCO_train2014_000000239417.jpg', False]]\n",
      "B images: [['person_bench/COCO_train2014_000000335696.jpg', False], ['person_bench/COCO_train2014_000000140762.jpg', True], ['person_bench/COCO_train2014_000000015354.jpg', False], ['person_bench/COCO_train2014_000000326499.jpg', False], ['person_bench/COCO_train2014_000000032957.jpg', True], ['person_bench/COCO_train2014_000000196545.jpg', True]]\n"
     ]
    }
   ],
   "source": [
    "print_game(59)"
   ]
  },
  {
   "cell_type": "markdown",
   "metadata": {},
   "source": [
    "## Analysis of main object groups"
   ]
  },
  {
   "cell_type": "code",
   "execution_count": 7,
   "metadata": {
    "collapsed": true
   },
   "outputs": [],
   "source": [
    "import os\n",
    "\n",
    "pairs = []\n",
    "categories = []\n",
    "\n",
    "filepath = \"./\"\n",
    "for root, dirs, _ in os.walk(filepath):\n",
    "    for directory in dirs:  \n",
    "        if directory.split(\"_\", 1)[0] != \".ipynb\" and directory.split(\"_\", 1)[1] != \"donut\":\n",
    "            if len(directory.split(\"_\")) == 3:\n",
    "                other = None\n",
    "                bad_guy = None\n",
    "                for item in directory.split(\"_\"):\n",
    "                    if item in [\"teddy\", \"bear\"]:\n",
    "                        bad_guy = \"teddy-bear\"\n",
    "                    elif item in [\"dining\", \"table\"]:\n",
    "                        bad_guy = \"dining-table\"\n",
    "                    else:\n",
    "                        other = item\n",
    "                pairs.append([bad_guy, other])\n",
    "                categories.extend([bad_guy, other])\n",
    "            else:\n",
    "                pairs.append(directory.split(\"_\", 1)[0:2])\n",
    "                categories.extend(directory.split(\"_\", 1)[0:2])"
   ]
  },
  {
   "cell_type": "code",
   "execution_count": 8,
   "metadata": {},
   "outputs": [
    {
     "name": "stdout",
     "output_type": "stream",
     "text": [
      "person + bicycle\n",
      "dining-table + bowl\n",
      "bus + truck\n",
      "dining-table + cake\n",
      "car + motorcycle\n",
      "car + truck\n",
      "chair + couch\n",
      "dining-table + couch\n",
      "couch + laptop\n",
      "dining-table + cup\n",
      "dining-table + laptop\n",
      "dining-table + refrigerator\n",
      "person + bed\n",
      "person + bench\n",
      "person + boat\n",
      "person + cake\n",
      "person + car\n",
      "person + couch\n",
      "person + dog\n",
      "person + elephant\n",
      "person + motorcycle\n",
      "person + oven\n",
      "person + refrigerator\n",
      "person + suitcase\n",
      "person + surfboard\n",
      "teddy-bear + person\n",
      "person + train\n",
      "person + truck\n",
      "person + tv\n",
      "person + umbrella\n"
     ]
    }
   ],
   "source": [
    "for a, b in pairs:\n",
    "    print(a + \" + \" + b)"
   ]
  },
  {
   "cell_type": "code",
   "execution_count": 11,
   "metadata": {},
   "outputs": [],
   "source": [
    "from collections import Counter\n",
    "import seaborn as sns\n",
    "import matplotlib.pyplot as plt\n",
    "%matplotlib inline\n",
    "import pandas as pd\n",
    "\n",
    "cat_counter = pd.DataFrame(categories)\n",
    "my_palette = sns.color_palette([sns.color_palette()[0]])"
   ]
  },
  {
   "cell_type": "code",
   "execution_count": 12,
   "metadata": {},
   "outputs": [
    {
     "name": "stderr",
     "output_type": "stream",
     "text": [
      "/home/janosch/anaconda3/lib/python3.6/site-packages/seaborn/categorical.py:1460: FutureWarning: remove_na is deprecated and is a private function. Do not use.\n",
      "  stat_data = remove_na(group_data)\n",
      "/home/janosch/anaconda3/lib/python3.6/site-packages/matplotlib/figure.py:403: UserWarning: matplotlib is currently using a non-GUI backend, so cannot show the figure\n",
      "  \"matplotlib is currently using a non-GUI backend, \"\n"
     ]
    },
    {
     "data": {
      "image/png": "[encoded data removed]",
      "text/plain": [
       "<matplotlib.figure.Figure at 0x7f1003906ef0>"
      ]
     },
     "metadata": {},
     "output_type": "display_data"
    }
   ],
   "source": [
    "title = 'Object Category Counts in the PhotoBook Image Sets'\n",
    "x_label = 'Count'\n",
    "y_label = 'Category'\n",
    "filename = 'categories'\n",
    "\n",
    "fig, ax = plt.subplots(1, figsize=(5,7))\n",
    "ax.grid()\n",
    "ax = sns.countplot(y=0, data=cat_counter, order = cat_counter[0].value_counts().index, palette=my_palette)\n",
    "ax.set_title(title)\n",
    "ax.set_xlabel(x_label)\n",
    "ax.set_ylabel(y_label)\n",
    "ax.set_xlim(0,20)\n",
    "\n",
    "fig.show()\n",
    "fig.savefig(\"{}.pdf\".format(filename), bbox_inches='tight')"
   ]
  }
 ],
 "metadata": {
  "kernelspec": {
   "display_name": "Python 3",
   "language": "python",
   "name": "python3"
  },
  "language_info": {
   "codemirror_mode": {
    "name": "ipython",
    "version": 3
   },
   "file_extension": ".py",
   "mimetype": "text/x-python",
   "name": "python",
   "nbconvert_exporter": "python",
   "pygments_lexer": "ipython3",
   "version": "3.6.2"
  }
 },
 "nbformat": 4,
 "nbformat_minor": 2
}
